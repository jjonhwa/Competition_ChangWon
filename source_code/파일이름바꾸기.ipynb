{
 "cells": [
  {
   "cell_type": "code",
   "execution_count": null,
   "metadata": {},
   "outputs": [],
   "source": [
    "import os"
   ]
  },
  {
   "cell_type": "code",
   "execution_count": 17,
   "metadata": {},
   "outputs": [],
   "source": [
    "def make_new_name(word, switch_word, length) :\n",
    "    fnames = os.listdir('../data/.')\n",
    "    \n",
    "    for fname in fnames :\n",
    "        if fname[:length] == word :\n",
    "            name = fname\n",
    "            new_name = fname.replace(word, '')\n",
    "            name = os.path.join('../data/', name)\n",
    "            new_name = os.path.join('../data/', new_name)\n",
    "            os.rename(name, new_name)"
   ]
  },
  {
   "cell_type": "code",
   "execution_count": 21,
   "metadata": {},
   "outputs": [],
   "source": [
    "make_new_name('창원시', 3)"
   ]
  },
  {
   "cell_type": "code",
   "execution_count": 22,
   "metadata": {},
   "outputs": [],
   "source": [
    "def make_new_name(word, switch_word, length, place) :\n",
    "    fnames = os.listdir(place)\n",
    "    \n",
    "    for fname in fnames :\n",
    "        if fname[:length] == word :\n",
    "            name = fname\n",
    "            new_name = fname.replace(word, switch_word)\n",
    "            name = os.path.join(place, name)\n",
    "            new_name = os.path.join(place, new_name)\n",
    "            os.rename(name, new_name)"
   ]
  },
  {
   "cell_type": "code",
   "execution_count": null,
   "metadata": {},
   "outputs": [],
   "source": []
  }
 ],
 "metadata": {
  "kernelspec": {
   "display_name": "Python 3",
   "language": "python",
   "name": "python3"
  },
  "language_info": {
   "codemirror_mode": {
    "name": "ipython",
    "version": 3
   },
   "file_extension": ".py",
   "mimetype": "text/x-python",
   "name": "python",
   "nbconvert_exporter": "python",
   "pygments_lexer": "ipython3",
   "version": "3.7.4"
  }
 },
 "nbformat": 4,
 "nbformat_minor": 2
}
